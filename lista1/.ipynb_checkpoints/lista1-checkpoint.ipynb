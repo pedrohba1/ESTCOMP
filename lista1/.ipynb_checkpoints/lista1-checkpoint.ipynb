{
 "cells": [
  {
   "cell_type": "code",
   "execution_count": 1,
   "metadata": {},
   "outputs": [
    {
     "data": {
      "text/html": [
       "<style>\n",
       ".list-inline {list-style: none; margin:0; padding: 0}\n",
       ".list-inline>li {display: inline-block}\n",
       ".list-inline>li:not(:last-child)::after {content: \"\\00b7\"; padding: 0 .5ex}\n",
       "</style>\n",
       "<ol class=list-inline><li>21</li><li>2</li></ol>\n"
      ],
      "text/latex": [
       "\\begin{enumerate*}\n",
       "\\item 21\n",
       "\\item 2\n",
       "\\end{enumerate*}\n"
      ],
      "text/markdown": [
       "1. 21\n",
       "2. 2\n",
       "\n",
       "\n"
      ],
      "text/plain": [
       "[1] 21  2"
      ]
     },
     "metadata": {},
     "output_type": "display_data"
    }
   ],
   "source": [
    "    X <- expand.grid(1:6,1:6)\n",
    "dim(unique(t(apply(X,1,sort))))"
   ]
  },
  {
   "cell_type": "code",
   "execution_count": 13,
   "metadata": {},
   "outputs": [
    {
     "name": "stdout",
     "output_type": "stream",
     "text": [
      "   Var1 Var2\n",
      "1     1    1\n",
      "2     2    1\n",
      "3     3    1\n",
      "4     4    1\n",
      "5     5    1\n",
      "6     6    1\n",
      "7     1    2\n",
      "8     2    2\n",
      "9     3    2\n",
      "10    4    2\n",
      "11    5    2\n",
      "12    6    2\n",
      "13    1    3\n",
      "14    2    3\n",
      "15    3    3\n",
      "16    4    3\n",
      "17    5    3\n",
      "18    6    3\n",
      "19    1    4\n",
      "20    2    4\n",
      "21    3    4\n",
      "22    4    4\n",
      "23    5    4\n",
      "24    6    4\n",
      "25    1    5\n",
      "26    2    5\n",
      "27    3    5\n",
      "28    4    5\n",
      "29    5    5\n",
      "30    6    5\n",
      "31    1    6\n",
      "32    2    6\n",
      "33    3    6\n",
      "34    4    6\n",
      "35    5    6\n",
      "36    6    6\n"
     ]
    }
   ],
   "source": [
    "dados = expand.grid(1:6, 1:6)\n",
    "print(dados)\n"
   ]
  },
  {
   "cell_type": "code",
   "execution_count": 110,
   "metadata": {},
   "outputs": [
    {
     "data": {
      "text/html": [
       "33"
      ],
      "text/latex": [
       "33"
      ],
      "text/markdown": [
       "33"
      ],
      "text/plain": [
       "[1] 33"
      ]
     },
     "metadata": {},
     "output_type": "display_data"
    }
   ],
   "source": [
    "library(tidyverse)  \n",
    "\n",
    "eventosA <- data.frame(Var1=integer(), Var2=integer())\n",
    "for (row in 1:nrow(dados)){\n",
    "    dado1 <- dados[row, \"Var1\"]\n",
    "    dado2 <- dados[row, \"Var2\"]\n",
    "    if(dado1 + dado2 >=4 ){\n",
    "        novodado <-data.frame(Var1=dado1, Var2=dado2)\n",
    "        eventosA <- rbind(eventosA, novodado)   \n",
    "    }\n",
    "}\n",
    "\n",
    "nrow(eventosA)\n"
   ]
  },
  {
   "cell_type": "markdown",
   "metadata": {},
   "source": [
    "$P(A) = \\frac{n(A)}{ n}   = \\frac{33}{36} $ "
   ]
  },
  {
   "cell_type": "code",
   "execution_count": 140,
   "metadata": {},
   "outputs": [
    {
     "data": {
      "text/html": [
       "18"
      ],
      "text/latex": [
       "18"
      ],
      "text/markdown": [
       "18"
      ],
      "text/plain": [
       "[1] 18"
      ]
     },
     "metadata": {},
     "output_type": "display_data"
    },
    {
     "data": {
      "text/html": [
       "11"
      ],
      "text/latex": [
       "11"
      ],
      "text/markdown": [
       "11"
      ],
      "text/plain": [
       "[1] 11"
      ]
     },
     "metadata": {},
     "output_type": "display_data"
    },
    {
     "data": {
      "text/html": [
       "6"
      ],
      "text/latex": [
       "6"
      ],
      "text/markdown": [
       "6"
      ],
      "text/plain": [
       "[1] 6"
      ]
     },
     "metadata": {},
     "output_type": "display_data"
    }
   ],
   "source": [
    "\n",
    "eventosB <- data.frame(Var1=integer(), Var2=integer())\n",
    "eventosC <- data.frame(Var1=integer(), Var2=integer())\n",
    "for (row in 1:nrow(dados)){\n",
    "    dado1 <- dados[row, \"Var1\"]\n",
    "    dado2 <- dados[row, \"Var2\"]\n",
    "    if((dado1 + dado2) %% 2 != 0 ){\n",
    "        novodado <-data.frame(Var1=dado1, Var2=dado2)\n",
    "        eventosB <- rbind(eventosB, novodado)   \n",
    "    }\n",
    "    if(dado1 ==2 || dado2 ==2){\n",
    "        novodado <-data.frame(Var1=dado1, Var2=dado2)\n",
    "        eventosC <- rbind(eventosC, novodado) \n",
    "    }\n",
    "}\n",
    "nrow(eventosB)\n",
    "nrow(eventosC)\n",
    "\n",
    "eventosIntersec <- data.frame(Var1=integer(), Var2=integer())\n",
    "\n",
    "for (row in 1:nrow(eventosB)){\n",
    "    dado1b <- eventosB[row, \"Var1\"]\n",
    "    dado2b <- eventosB[row, \"Var2\"]\n",
    "    for(row2 in 1:nrow(eventosC)){\n",
    "        dado1c <- eventosC[row2, \"Var1\"]\n",
    "        dado2c <- eventosC[row2, \"Var2\"]\n",
    "         if((dado1b ==dado1c) && (dado2b ==dado2c)){\n",
    "            novodado <-data.frame(Var1=dado1b, Var2=dado2b)\n",
    "            eventosIntersec <- rbind(eventosIntersec, novodado) \n",
    "         }\n",
    "    }    \n",
    "}\n",
    "nrow(eventosIntersec)\n"
   ]
  },
  {
   "cell_type": "markdown",
   "metadata": {},
   "source": [
    "$P(B|C) = \\frac{P(B\\cap C)}{ P(C)}   =  \\frac{ \\frac{6}{36}  }{\\frac{11}{36}}  $"
   ]
  },
  {
   "cell_type": "code",
   "execution_count": null,
   "metadata": {},
   "outputs": [],
   "source": []
  },
  {
   "cell_type": "code",
   "execution_count": null,
   "metadata": {},
   "outputs": [],
   "source": []
  }
 ],
 "metadata": {
  "kernelspec": {
   "display_name": "R",
   "language": "R",
   "name": "ir"
  },
  "language_info": {
   "codemirror_mode": "r",
   "file_extension": ".r",
   "mimetype": "text/x-r-source",
   "name": "R",
   "pygments_lexer": "r",
   "version": "4.0.3"
  }
 },
 "nbformat": 4,
 "nbformat_minor": 4
}
