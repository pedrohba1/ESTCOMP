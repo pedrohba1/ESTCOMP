{
 "cells": [
  {
   "cell_type": "markdown",
   "metadata": {},
   "source": [
    "<p> Exercício 1.</p>"
   ]
  },
  {
   "cell_type": "code",
   "execution_count": 3,
   "metadata": {},
   "outputs": [
    {
     "data": {
      "text/html": [
       "<style>\n",
       ".list-inline {list-style: none; margin:0; padding: 0}\n",
       ".list-inline>li {display: inline-block}\n",
       ".list-inline>li:not(:last-child)::after {content: \"\\00b7\"; padding: 0 .5ex}\n",
       "</style>\n",
       "<ol class=list-inline><li>1</li><li>2</li><li>3</li><li>4</li><li>5</li><li>6</li><li>7</li><li>8</li><li>9</li><li>10</li><li>11</li><li>12</li><li>13</li><li>14</li><li>15</li><li>16</li><li>17</li><li>18</li><li>19</li><li>20</li></ol>\n"
      ],
      "text/latex": [
       "\\begin{enumerate*}\n",
       "\\item 1\n",
       "\\item 2\n",
       "\\item 3\n",
       "\\item 4\n",
       "\\item 5\n",
       "\\item 6\n",
       "\\item 7\n",
       "\\item 8\n",
       "\\item 9\n",
       "\\item 10\n",
       "\\item 11\n",
       "\\item 12\n",
       "\\item 13\n",
       "\\item 14\n",
       "\\item 15\n",
       "\\item 16\n",
       "\\item 17\n",
       "\\item 18\n",
       "\\item 19\n",
       "\\item 20\n",
       "\\end{enumerate*}\n"
      ],
      "text/markdown": [
       "1. 1\n",
       "2. 2\n",
       "3. 3\n",
       "4. 4\n",
       "5. 5\n",
       "6. 6\n",
       "7. 7\n",
       "8. 8\n",
       "9. 9\n",
       "10. 10\n",
       "11. 11\n",
       "12. 12\n",
       "13. 13\n",
       "14. 14\n",
       "15. 15\n",
       "16. 16\n",
       "17. 17\n",
       "18. 18\n",
       "19. 19\n",
       "20. 20\n",
       "\n",
       "\n"
      ],
      "text/plain": [
       " [1]  1  2  3  4  5  6  7  8  9 10 11 12 13 14 15 16 17 18 19 20"
      ]
     },
     "metadata": {},
     "output_type": "display_data"
    }
   ],
   "source": [
    "#a\n",
    "x <- 1:20\n",
    "x"
   ]
  },
  {
   "cell_type": "code",
   "execution_count": 6,
   "metadata": {},
   "outputs": [
    {
     "data": {
      "text/html": [
       "<style>\n",
       ".list-inline {list-style: none; margin:0; padding: 0}\n",
       ".list-inline>li {display: inline-block}\n",
       ".list-inline>li:not(:last-child)::after {content: \"\\00b7\"; padding: 0 .5ex}\n",
       "</style>\n",
       "<ol class=list-inline><li>20</li><li>19</li><li>18</li><li>17</li><li>16</li><li>15</li><li>14</li><li>13</li><li>12</li><li>11</li><li>10</li><li>9</li><li>8</li><li>7</li><li>6</li><li>5</li><li>4</li><li>3</li><li>2</li><li>1</li></ol>\n"
      ],
      "text/latex": [
       "\\begin{enumerate*}\n",
       "\\item 20\n",
       "\\item 19\n",
       "\\item 18\n",
       "\\item 17\n",
       "\\item 16\n",
       "\\item 15\n",
       "\\item 14\n",
       "\\item 13\n",
       "\\item 12\n",
       "\\item 11\n",
       "\\item 10\n",
       "\\item 9\n",
       "\\item 8\n",
       "\\item 7\n",
       "\\item 6\n",
       "\\item 5\n",
       "\\item 4\n",
       "\\item 3\n",
       "\\item 2\n",
       "\\item 1\n",
       "\\end{enumerate*}\n"
      ],
      "text/markdown": [
       "1. 20\n",
       "2. 19\n",
       "3. 18\n",
       "4. 17\n",
       "5. 16\n",
       "6. 15\n",
       "7. 14\n",
       "8. 13\n",
       "9. 12\n",
       "10. 11\n",
       "11. 10\n",
       "12. 9\n",
       "13. 8\n",
       "14. 7\n",
       "15. 6\n",
       "16. 5\n",
       "17. 4\n",
       "18. 3\n",
       "19. 2\n",
       "20. 1\n",
       "\n",
       "\n"
      ],
      "text/plain": [
       " [1] 20 19 18 17 16 15 14 13 12 11 10  9  8  7  6  5  4  3  2  1"
      ]
     },
     "metadata": {},
     "output_type": "display_data"
    }
   ],
   "source": [
    "#b\n",
    "x <- 20:1\n",
    "x"
   ]
  },
  {
   "cell_type": "code",
   "execution_count": 9,
   "metadata": {},
   "outputs": [
    {
     "data": {
      "text/html": [
       "<style>\n",
       ".list-inline {list-style: none; margin:0; padding: 0}\n",
       ".list-inline>li {display: inline-block}\n",
       ".list-inline>li:not(:last-child)::after {content: \"\\00b7\"; padding: 0 .5ex}\n",
       "</style>\n",
       "<ol class=list-inline><li>1</li><li>2</li><li>3</li><li>4</li><li>5</li><li>6</li><li>7</li><li>8</li><li>9</li><li>10</li><li>11</li><li>12</li><li>13</li><li>14</li><li>15</li><li>16</li><li>17</li><li>18</li><li>19</li><li>20</li><li>20</li><li>19</li><li>18</li><li>17</li><li>16</li><li>15</li><li>14</li><li>13</li><li>12</li><li>11</li><li>10</li><li>9</li><li>8</li><li>7</li><li>6</li><li>5</li><li>4</li><li>3</li><li>2</li><li>1</li></ol>\n"
      ],
      "text/latex": [
       "\\begin{enumerate*}\n",
       "\\item 1\n",
       "\\item 2\n",
       "\\item 3\n",
       "\\item 4\n",
       "\\item 5\n",
       "\\item 6\n",
       "\\item 7\n",
       "\\item 8\n",
       "\\item 9\n",
       "\\item 10\n",
       "\\item 11\n",
       "\\item 12\n",
       "\\item 13\n",
       "\\item 14\n",
       "\\item 15\n",
       "\\item 16\n",
       "\\item 17\n",
       "\\item 18\n",
       "\\item 19\n",
       "\\item 20\n",
       "\\item 20\n",
       "\\item 19\n",
       "\\item 18\n",
       "\\item 17\n",
       "\\item 16\n",
       "\\item 15\n",
       "\\item 14\n",
       "\\item 13\n",
       "\\item 12\n",
       "\\item 11\n",
       "\\item 10\n",
       "\\item 9\n",
       "\\item 8\n",
       "\\item 7\n",
       "\\item 6\n",
       "\\item 5\n",
       "\\item 4\n",
       "\\item 3\n",
       "\\item 2\n",
       "\\item 1\n",
       "\\end{enumerate*}\n"
      ],
      "text/markdown": [
       "1. 1\n",
       "2. 2\n",
       "3. 3\n",
       "4. 4\n",
       "5. 5\n",
       "6. 6\n",
       "7. 7\n",
       "8. 8\n",
       "9. 9\n",
       "10. 10\n",
       "11. 11\n",
       "12. 12\n",
       "13. 13\n",
       "14. 14\n",
       "15. 15\n",
       "16. 16\n",
       "17. 17\n",
       "18. 18\n",
       "19. 19\n",
       "20. 20\n",
       "21. 20\n",
       "22. 19\n",
       "23. 18\n",
       "24. 17\n",
       "25. 16\n",
       "26. 15\n",
       "27. 14\n",
       "28. 13\n",
       "29. 12\n",
       "30. 11\n",
       "31. 10\n",
       "32. 9\n",
       "33. 8\n",
       "34. 7\n",
       "35. 6\n",
       "36. 5\n",
       "37. 4\n",
       "38. 3\n",
       "39. 2\n",
       "40. 1\n",
       "\n",
       "\n"
      ],
      "text/plain": [
       " [1]  1  2  3  4  5  6  7  8  9 10 11 12 13 14 15 16 17 18 19 20 20 19 18 17 16\n",
       "[26] 15 14 13 12 11 10  9  8  7  6  5  4  3  2  1"
      ]
     },
     "metadata": {},
     "output_type": "display_data"
    }
   ],
   "source": [
    "#c\n",
    "x <- c(1:20, 20:1)\n",
    "x"
   ]
  },
  {
   "cell_type": "code",
   "execution_count": 23,
   "metadata": {},
   "outputs": [
    {
     "data": {
      "text/html": [
       "<style>\n",
       ".list-inline {list-style: none; margin:0; padding: 0}\n",
       ".list-inline>li {display: inline-block}\n",
       ".list-inline>li:not(:last-child)::after {content: \"\\00b7\"; padding: 0 .5ex}\n",
       "</style>\n",
       "<ol class=list-inline><li>3</li><li>6</li><li>9</li><li>12</li><li>15</li><li>18</li><li>21</li><li>24</li><li>27</li><li>30</li><li>33</li><li>36</li></ol>\n"
      ],
      "text/latex": [
       "\\begin{enumerate*}\n",
       "\\item 3\n",
       "\\item 6\n",
       "\\item 9\n",
       "\\item 12\n",
       "\\item 15\n",
       "\\item 18\n",
       "\\item 21\n",
       "\\item 24\n",
       "\\item 27\n",
       "\\item 30\n",
       "\\item 33\n",
       "\\item 36\n",
       "\\end{enumerate*}\n"
      ],
      "text/markdown": [
       "1. 3\n",
       "2. 6\n",
       "3. 9\n",
       "4. 12\n",
       "5. 15\n",
       "6. 18\n",
       "7. 21\n",
       "8. 24\n",
       "9. 27\n",
       "10. 30\n",
       "11. 33\n",
       "12. 36\n",
       "\n",
       "\n"
      ],
      "text/plain": [
       " [1]  3  6  9 12 15 18 21 24 27 30 33 36"
      ]
     },
     "metadata": {},
     "output_type": "display_data"
    },
    {
     "data": {
      "text/html": [
       "<style>\n",
       ".list-inline {list-style: none; margin:0; padding: 0}\n",
       ".list-inline>li {display: inline-block}\n",
       ".list-inline>li:not(:last-child)::after {content: \"\\00b7\"; padding: 0 .5ex}\n",
       "</style>\n",
       "<ol class=list-inline><li>1</li><li>4</li><li>7</li><li>10</li><li>13</li><li>16</li><li>19</li><li>22</li><li>25</li><li>28</li><li>31</li><li>34</li></ol>\n"
      ],
      "text/latex": [
       "\\begin{enumerate*}\n",
       "\\item 1\n",
       "\\item 4\n",
       "\\item 7\n",
       "\\item 10\n",
       "\\item 13\n",
       "\\item 16\n",
       "\\item 19\n",
       "\\item 22\n",
       "\\item 25\n",
       "\\item 28\n",
       "\\item 31\n",
       "\\item 34\n",
       "\\end{enumerate*}\n"
      ],
      "text/markdown": [
       "1. 1\n",
       "2. 4\n",
       "3. 7\n",
       "4. 10\n",
       "5. 13\n",
       "6. 16\n",
       "7. 19\n",
       "8. 22\n",
       "9. 25\n",
       "10. 28\n",
       "11. 31\n",
       "12. 34\n",
       "\n",
       "\n"
      ],
      "text/plain": [
       " [1]  1  4  7 10 13 16 19 22 25 28 31 34"
      ]
     },
     "metadata": {},
     "output_type": "display_data"
    },
    {
     "name": "stdout",
     "output_type": "stream",
     "text": [
      " [1] 2.000000e-04 1.600000e-09 1.280000e-14 1.024000e-19 8.192000e-25\n",
      " [6] 6.553600e-30 5.242880e-35 4.194304e-40 3.355443e-45 2.684355e-50\n",
      "[11] 2.147484e-55 1.717987e-60\n"
     ]
    }
   ],
   "source": [
    "#d\n",
    "a <- seq(3, 36, 3)\n",
    "a\n",
    "b <- seq(1,34, 3)\n",
    "b\n",
    "c = 0.1^(a)*0.2^(b)\n",
    "\n",
    "print(c)\n",
    "\n"
   ]
  },
  {
   "cell_type": "code",
   "execution_count": 42,
   "metadata": {},
   "outputs": [
    {
     "data": {
      "text/html": [
       "<style>\n",
       ".list-inline {list-style: none; margin:0; padding: 0}\n",
       ".list-inline>li {display: inline-block}\n",
       ".list-inline>li:not(:last-child)::after {content: \"\\00b7\"; padding: 0 .5ex}\n",
       "</style>\n",
       "<ol class=list-inline><li>4</li><li>5</li><li>6</li><li>4</li><li>5</li><li>6</li><li>4</li><li>5</li><li>6</li><li>4</li><li>5</li><li>6</li><li>4</li><li>5</li><li>6</li><li>4</li><li>5</li><li>6</li><li>4</li><li>5</li><li>6</li><li>4</li><li>5</li><li>6</li><li>4</li><li>5</li><li>6</li><li>4</li><li>5</li><li>6</li></ol>\n"
      ],
      "text/latex": [
       "\\begin{enumerate*}\n",
       "\\item 4\n",
       "\\item 5\n",
       "\\item 6\n",
       "\\item 4\n",
       "\\item 5\n",
       "\\item 6\n",
       "\\item 4\n",
       "\\item 5\n",
       "\\item 6\n",
       "\\item 4\n",
       "\\item 5\n",
       "\\item 6\n",
       "\\item 4\n",
       "\\item 5\n",
       "\\item 6\n",
       "\\item 4\n",
       "\\item 5\n",
       "\\item 6\n",
       "\\item 4\n",
       "\\item 5\n",
       "\\item 6\n",
       "\\item 4\n",
       "\\item 5\n",
       "\\item 6\n",
       "\\item 4\n",
       "\\item 5\n",
       "\\item 6\n",
       "\\item 4\n",
       "\\item 5\n",
       "\\item 6\n",
       "\\end{enumerate*}\n"
      ],
      "text/markdown": [
       "1. 4\n",
       "2. 5\n",
       "3. 6\n",
       "4. 4\n",
       "5. 5\n",
       "6. 6\n",
       "7. 4\n",
       "8. 5\n",
       "9. 6\n",
       "10. 4\n",
       "11. 5\n",
       "12. 6\n",
       "13. 4\n",
       "14. 5\n",
       "15. 6\n",
       "16. 4\n",
       "17. 5\n",
       "18. 6\n",
       "19. 4\n",
       "20. 5\n",
       "21. 6\n",
       "22. 4\n",
       "23. 5\n",
       "24. 6\n",
       "25. 4\n",
       "26. 5\n",
       "27. 6\n",
       "28. 4\n",
       "29. 5\n",
       "30. 6\n",
       "\n",
       "\n"
      ],
      "text/plain": [
       " [1] 4 5 6 4 5 6 4 5 6 4 5 6 4 5 6 4 5 6 4 5 6 4 5 6 4 5 6 4 5 6"
      ]
     },
     "metadata": {},
     "output_type": "display_data"
    }
   ],
   "source": [
    "#d (não seria letra e?) \n",
    "e <- rep(4:6, times=10)\n",
    "e\n"
   ]
  },
  {
   "cell_type": "code",
   "execution_count": 59,
   "metadata": {},
   "outputs": [
    {
     "data": {
      "text/html": [
       "<style>\n",
       ".list-inline {list-style: none; margin:0; padding: 0}\n",
       ".list-inline>li {display: inline-block}\n",
       ".list-inline>li:not(:last-child)::after {content: \"\\00b7\"; padding: 0 .5ex}\n",
       "</style>\n",
       "<ol class=list-inline><li>4</li><li>6</li><li>3</li><li>4</li><li>6</li><li>3</li><li>4</li><li>6</li><li>3</li><li>4</li><li>6</li><li>3</li><li>4</li><li>6</li><li>3</li><li>4</li><li>6</li><li>3</li><li>4</li><li>6</li><li>3</li><li>4</li><li>6</li><li>3</li><li>4</li><li>6</li><li>3</li><li>4</li><li>6</li><li>3</li><li>4</li></ol>\n"
      ],
      "text/latex": [
       "\\begin{enumerate*}\n",
       "\\item 4\n",
       "\\item 6\n",
       "\\item 3\n",
       "\\item 4\n",
       "\\item 6\n",
       "\\item 3\n",
       "\\item 4\n",
       "\\item 6\n",
       "\\item 3\n",
       "\\item 4\n",
       "\\item 6\n",
       "\\item 3\n",
       "\\item 4\n",
       "\\item 6\n",
       "\\item 3\n",
       "\\item 4\n",
       "\\item 6\n",
       "\\item 3\n",
       "\\item 4\n",
       "\\item 6\n",
       "\\item 3\n",
       "\\item 4\n",
       "\\item 6\n",
       "\\item 3\n",
       "\\item 4\n",
       "\\item 6\n",
       "\\item 3\n",
       "\\item 4\n",
       "\\item 6\n",
       "\\item 3\n",
       "\\item 4\n",
       "\\end{enumerate*}\n"
      ],
      "text/markdown": [
       "1. 4\n",
       "2. 6\n",
       "3. 3\n",
       "4. 4\n",
       "5. 6\n",
       "6. 3\n",
       "7. 4\n",
       "8. 6\n",
       "9. 3\n",
       "10. 4\n",
       "11. 6\n",
       "12. 3\n",
       "13. 4\n",
       "14. 6\n",
       "15. 3\n",
       "16. 4\n",
       "17. 6\n",
       "18. 3\n",
       "19. 4\n",
       "20. 6\n",
       "21. 3\n",
       "22. 4\n",
       "23. 6\n",
       "24. 3\n",
       "25. 4\n",
       "26. 6\n",
       "27. 3\n",
       "28. 4\n",
       "29. 6\n",
       "30. 3\n",
       "31. 4\n",
       "\n",
       "\n"
      ],
      "text/plain": [
       " [1] 4 6 3 4 6 3 4 6 3 4 6 3 4 6 3 4 6 3 4 6 3 4 6 3 4 6 3 4 6 3 4"
      ]
     },
     "metadata": {},
     "output_type": "display_data"
    }
   ],
   "source": [
    "#d (não seria letra f?)\n",
    "f <- c(rep(c(4,6,3),10),4)\n",
    "f"
   ]
  },
  {
   "cell_type": "markdown",
   "metadata": {},
   "source": [
    "Exercício 2."
   ]
  },
  {
   "cell_type": "code",
   "execution_count": 60,
   "metadata": {},
   "outputs": [],
   "source": [
    "zercicio_2 <- function(x) {\n",
    "  result <- exp(x)*cos(x)\n",
    "  return(result)\n",
    "}"
   ]
  },
  {
   "cell_type": "code",
   "execution_count": 65,
   "metadata": {},
   "outputs": [
    {
     "data": {
      "text/html": [
       "<style>\n",
       ".list-inline {list-style: none; margin:0; padding: 0}\n",
       ".list-inline>li {display: inline-block}\n",
       ".list-inline>li:not(:last-child)::after {content: \"\\00b7\"; padding: 0 .5ex}\n",
       "</style>\n",
       "<ol class=list-inline><li>3</li><li>3.1</li><li>3.2</li><li>3.3</li><li>3.4</li><li>3.5</li><li>3.6</li><li>3.7</li><li>3.8</li><li>3.9</li><li>4</li><li>4.1</li><li>4.2</li><li>4.3</li><li>4.4</li><li>4.5</li><li>4.6</li><li>4.7</li><li>4.8</li><li>4.9</li><li>5</li><li>5.1</li><li>5.2</li><li>5.3</li><li>5.4</li><li>5.5</li><li>5.6</li><li>5.7</li><li>5.8</li><li>5.9</li><li>6</li></ol>\n"
      ],
      "text/latex": [
       "\\begin{enumerate*}\n",
       "\\item 3\n",
       "\\item 3.1\n",
       "\\item 3.2\n",
       "\\item 3.3\n",
       "\\item 3.4\n",
       "\\item 3.5\n",
       "\\item 3.6\n",
       "\\item 3.7\n",
       "\\item 3.8\n",
       "\\item 3.9\n",
       "\\item 4\n",
       "\\item 4.1\n",
       "\\item 4.2\n",
       "\\item 4.3\n",
       "\\item 4.4\n",
       "\\item 4.5\n",
       "\\item 4.6\n",
       "\\item 4.7\n",
       "\\item 4.8\n",
       "\\item 4.9\n",
       "\\item 5\n",
       "\\item 5.1\n",
       "\\item 5.2\n",
       "\\item 5.3\n",
       "\\item 5.4\n",
       "\\item 5.5\n",
       "\\item 5.6\n",
       "\\item 5.7\n",
       "\\item 5.8\n",
       "\\item 5.9\n",
       "\\item 6\n",
       "\\end{enumerate*}\n"
      ],
      "text/markdown": [
       "1. 3\n",
       "2. 3.1\n",
       "3. 3.2\n",
       "4. 3.3\n",
       "5. 3.4\n",
       "6. 3.5\n",
       "7. 3.6\n",
       "8. 3.7\n",
       "9. 3.8\n",
       "10. 3.9\n",
       "11. 4\n",
       "12. 4.1\n",
       "13. 4.2\n",
       "14. 4.3\n",
       "15. 4.4\n",
       "16. 4.5\n",
       "17. 4.6\n",
       "18. 4.7\n",
       "19. 4.8\n",
       "20. 4.9\n",
       "21. 5\n",
       "22. 5.1\n",
       "23. 5.2\n",
       "24. 5.3\n",
       "25. 5.4\n",
       "26. 5.5\n",
       "27. 5.6\n",
       "28. 5.7\n",
       "29. 5.8\n",
       "30. 5.9\n",
       "31. 6\n",
       "\n",
       "\n"
      ],
      "text/plain": [
       " [1] 3.0 3.1 3.2 3.3 3.4 3.5 3.6 3.7 3.8 3.9 4.0 4.1 4.2 4.3 4.4 4.5 4.6 4.7 4.8\n",
       "[20] 4.9 5.0 5.1 5.2 5.3 5.4 5.5 5.6 5.7 5.8 5.9 6.0"
      ]
     },
     "metadata": {},
     "output_type": "display_data"
    }
   ],
   "source": [
    "s <- seq(from = 3, to = 6, by=0.1)\n",
    "s"
   ]
  },
  {
   "cell_type": "code",
   "execution_count": 67,
   "metadata": {},
   "outputs": [
    {
     "data": {
      "text/html": [
       "<style>\n",
       ".list-inline {list-style: none; margin:0; padding: 0}\n",
       ".list-inline>li {display: inline-block}\n",
       ".list-inline>li:not(:last-child)::after {content: \"\\00b7\"; padding: 0 .5ex}\n",
       "</style>\n",
       "<ol class=list-inline><li>-19.884530844147</li><li>-22.1787533893421</li><li>-24.4906967328013</li><li>-26.7731824429934</li><li>-28.9692377680936</li><li>-31.0111864393745</li><li>-32.8197747603385</li><li>-34.3033601103737</li><li>-35.3571936185304</li><li>-35.8628337123077</li><li>-35.6877324801191</li><li>-34.6850422516681</li><li>-32.6936954283217</li><li>-29.538816297263</li><li>-25.03252922904</li><li>-18.975233154959</li><li>-11.1574173896475</li><li>-1.36209851820575</li><li>10.632038010192</li><li>25.046704998273</li><li>42.0992010625384</li><li>61.9966302766945</li><li>84.9290673625027</li><li>111.061586042026</li><li>140.525075052788</li><li>173.405776408577</li><li>209.733494247835</li><li>249.468440558857</li><li>292.486706737123</li><li>338.564377858512</li><li>387.360340290931</li></ol>\n"
      ],
      "text/latex": [
       "\\begin{enumerate*}\n",
       "\\item -19.884530844147\n",
       "\\item -22.1787533893421\n",
       "\\item -24.4906967328013\n",
       "\\item -26.7731824429934\n",
       "\\item -28.9692377680936\n",
       "\\item -31.0111864393745\n",
       "\\item -32.8197747603385\n",
       "\\item -34.3033601103737\n",
       "\\item -35.3571936185304\n",
       "\\item -35.8628337123077\n",
       "\\item -35.6877324801191\n",
       "\\item -34.6850422516681\n",
       "\\item -32.6936954283217\n",
       "\\item -29.538816297263\n",
       "\\item -25.03252922904\n",
       "\\item -18.975233154959\n",
       "\\item -11.1574173896475\n",
       "\\item -1.36209851820575\n",
       "\\item 10.632038010192\n",
       "\\item 25.046704998273\n",
       "\\item 42.0992010625384\n",
       "\\item 61.9966302766945\n",
       "\\item 84.9290673625027\n",
       "\\item 111.061586042026\n",
       "\\item 140.525075052788\n",
       "\\item 173.405776408577\n",
       "\\item 209.733494247835\n",
       "\\item 249.468440558857\n",
       "\\item 292.486706737123\n",
       "\\item 338.564377858512\n",
       "\\item 387.360340290931\n",
       "\\end{enumerate*}\n"
      ],
      "text/markdown": [
       "1. -19.884530844147\n",
       "2. -22.1787533893421\n",
       "3. -24.4906967328013\n",
       "4. -26.7731824429934\n",
       "5. -28.9692377680936\n",
       "6. -31.0111864393745\n",
       "7. -32.8197747603385\n",
       "8. -34.3033601103737\n",
       "9. -35.3571936185304\n",
       "10. -35.8628337123077\n",
       "11. -35.6877324801191\n",
       "12. -34.6850422516681\n",
       "13. -32.6936954283217\n",
       "14. -29.538816297263\n",
       "15. -25.03252922904\n",
       "16. -18.975233154959\n",
       "17. -11.1574173896475\n",
       "18. -1.36209851820575\n",
       "19. 10.632038010192\n",
       "20. 25.046704998273\n",
       "21. 42.0992010625384\n",
       "22. 61.9966302766945\n",
       "23. 84.9290673625027\n",
       "24. 111.061586042026\n",
       "25. 140.525075052788\n",
       "26. 173.405776408577\n",
       "27. 209.733494247835\n",
       "28. 249.468440558857\n",
       "29. 292.486706737123\n",
       "30. 338.564377858512\n",
       "31. 387.360340290931\n",
       "\n",
       "\n"
      ],
      "text/plain": [
       " [1] -19.884531 -22.178753 -24.490697 -26.773182 -28.969238 -31.011186\n",
       " [7] -32.819775 -34.303360 -35.357194 -35.862834 -35.687732 -34.685042\n",
       "[13] -32.693695 -29.538816 -25.032529 -18.975233 -11.157417  -1.362099\n",
       "[19]  10.632038  25.046705  42.099201  61.996630  84.929067 111.061586\n",
       "[25] 140.525075 173.405776 209.733494 249.468441 292.486707 338.564378\n",
       "[31] 387.360340"
      ]
     },
     "metadata": {},
     "output_type": "display_data"
    }
   ],
   "source": [
    "l <- zercicio_2(s)\n",
    "l"
   ]
  },
  {
   "cell_type": "markdown",
   "metadata": {},
   "source": [
    "Exercício 3."
   ]
  },
  {
   "cell_type": "code",
   "execution_count": 81,
   "metadata": {},
   "outputs": [
    {
     "data": {
      "text/html": [
       "26852735"
      ],
      "text/latex": [
       "26852735"
      ],
      "text/markdown": [
       "26852735"
      ],
      "text/plain": [
       "[1] 26852735"
      ]
     },
     "metadata": {},
     "output_type": "display_data"
    }
   ],
   "source": [
    "#a\n",
    "zercicio_3a <- function(i) {\n",
    "  result <- i^3 + 4*(i^2)\n",
    "  return(result)\n",
    "}\n",
    "\n",
    "s <- 10:100\n",
    "somatorio <- zercicio_3a(s)\n",
    "total <- sum(somatorio)\n",
    "total"
   ]
  },
  {
   "cell_type": "code",
   "execution_count": 84,
   "metadata": {},
   "outputs": [
    {
     "data": {
      "text/html": [
       "2129169868.47567"
      ],
      "text/latex": [
       "2129169868.47567"
      ],
      "text/markdown": [
       "2129169868.47567"
      ],
      "text/plain": [
       "[1] 2129169868"
      ]
     },
     "metadata": {},
     "output_type": "display_data"
    }
   ],
   "source": [
    "#b\n",
    "zercicio_3b <- function(i) {\n",
    "  result <- ((2^i) /i) + ((3^i) / (i^2))\n",
    "  return(result)\n",
    "}\n",
    "\n",
    "s <- 10:25\n",
    "somatorio <- zercicio_3b(s)\n",
    "total <- sum(somatorio)\n",
    "total\n"
   ]
  },
  {
   "cell_type": "code",
   "execution_count": null,
   "metadata": {},
   "outputs": [],
   "source": []
  }
 ],
 "metadata": {
  "kernelspec": {
   "display_name": "R",
   "language": "R",
   "name": "ir"
  },
  "language_info": {
   "codemirror_mode": "r",
   "file_extension": ".r",
   "mimetype": "text/x-r-source",
   "name": "R",
   "pygments_lexer": "r",
   "version": "4.0.3"
  }
 },
 "nbformat": 4,
 "nbformat_minor": 4
}
